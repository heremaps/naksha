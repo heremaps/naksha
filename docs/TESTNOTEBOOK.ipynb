{
 "cells": [
  {
   "cell_type": "markdown",
   "source": [
    "This is the initial draft of a Kotlin Notebook, basically the same as Jupyter notebooks, where code snippets can also be included in the markdown docs, and executed. This is more popular for workshops with smaller units of code needing execution, but theoretically there is a setting that allows new notebooks to import project dependencies, so doing something like ramping up Naksha locally should be achievable in a code block in notebooks. Furthermore the ability to render other formats like HTML webpage or LaTeX mathematical formulas directly inside one notebook file might be a good presentation for a product.\n",
    "\n",
    "Follow the guide at https://blog.jetbrains.com/kotlin/2023/07/introducing-kotlin-notebook/ to install the plugin for IntelliJ."
   ],
   "metadata": {
    "collapsed": false
   }
  },
  {
   "cell_type": "code",
   "execution_count": 4,
   "outputs": [
    {
     "data": {
      "text/plain": "2"
     },
     "execution_count": 4,
     "metadata": {},
     "output_type": "execute_result"
    }
   ],
   "source": [
    "1+1"
   ],
   "metadata": {
    "collapsed": false,
    "ExecuteTime": {
     "end_time": "2023-07-24T16:11:16.215767348Z",
     "start_time": "2023-07-24T16:11:16.107824611Z"
    }
   }
  },
  {
   "cell_type": "markdown",
   "source": [
    "Currently Jetbrains has [this notebook](https://datalore.jetbrains.com/report/static/sBgNeHxfaKG1tVRDWl3KqU/DMtWM05XWOT2Oi6yxZjVkJ) to showcase the capabilities of these Kotlin notebooks."
   ],
   "metadata": {
    "collapsed": false
   }
  },
  {
   "cell_type": "code",
   "execution_count": null,
   "outputs": [],
   "source": [],
   "metadata": {
    "collapsed": false
   }
  }
 ],
 "metadata": {
  "kernelspec": {
   "display_name": "Kotlin",
   "language": "kotlin",
   "name": "kotlin"
  },
  "language_info": {
   "name": "kotlin",
   "version": "1.8.20",
   "mimetype": "text/x-kotlin",
   "file_extension": ".kt",
   "pygments_lexer": "kotlin",
   "codemirror_mode": "text/x-kotlin",
   "nbconvert_exporter": ""
  },
  "ktnbPluginMetadata": {
   "isAddProjectLibrariesToClasspath": false
  }
 },
 "nbformat": 4,
 "nbformat_minor": 0
}
